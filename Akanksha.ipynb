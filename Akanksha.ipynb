{
  "cells": [
    {
      "cell_type": "code",
      "execution_count": null,
      "metadata": {
        "colab": {
          "base_uri": "https://localhost:8080/"
        },
        "id": "Pw6s32JmxGNe",
        "outputId": "f3f5f950-4a37-4d23-a8ff-a999ee8c3132"
      },
      "outputs": [
        {
          "output_type": "stream",
          "name": "stdout",
          "text": [
            "Looking in indexes: https://pypi.org/simple, https://us-python.pkg.dev/colab-wheels/public/simple/\n",
            "Requirement already satisfied: biopython in /usr/local/lib/python3.7/dist-packages (1.79)\n",
            "Requirement already satisfied: numpy in /usr/local/lib/python3.7/dist-packages (from biopython) (1.21.6)\n"
          ]
        }
      ],
      "source": [
        "!pip install biopython"
      ]
    },
    {
      "cell_type": "code",
      "execution_count": null,
      "metadata": {
        "id": "cJX-56KBxJun"
      },
      "outputs": [],
      "source": [
        "from Bio import SeqIO"
      ]
    },
    {
      "cell_type": "markdown",
      "metadata": {
        "id": "Alv37PORE85p"
      },
      "source": [
        "##How to import fasta files from ncbi\n",
        "\n",
        "Kindly visit the following link\n",
        "\n",
        "https://www.ncbi.nlm.nih.gov/nuccore\n",
        "\n",
        "---\n",
        "\n"
      ]
    },
    {
      "cell_type": "code",
      "execution_count": null,
      "metadata": {
        "id": "C7w2YavwxjSs"
      },
      "outputs": [],
      "source": [
        "record = SeqIO.read(\"/content/f1.fasta\",\"fasta\")"
      ]
    },
    {
      "cell_type": "code",
      "execution_count": null,
      "metadata": {
        "colab": {
          "base_uri": "https://localhost:8080/"
        },
        "id": "_phl01L7HdeD",
        "outputId": "df2d24c5-941c-4e93-fb9e-3e26feeccb38"
      },
      "outputs": [
        {
          "output_type": "execute_result",
          "data": {
            "text/plain": [
              "Seq('CTCGTCAGCCGGCGCCTGTGCGGCTCTAACTTAGTGGATGCGCTGTTCTTGCTA...TAG')"
            ]
          },
          "metadata": {},
          "execution_count": 21
        }
      ],
      "source": [
        "record.seq"
      ]
    },
    {
      "cell_type": "markdown",
      "metadata": {
        "id": "4W4XVyYtXPG0"
      },
      "source": [
        "###Reverse Complement"
      ]
    },
    {
      "cell_type": "code",
      "execution_count": null,
      "metadata": {
        "id": "lnMgHy5SWalH"
      },
      "outputs": [],
      "source": [
        "records = [rec.reverse_complement(id=\"rc_\"+rec.id, description = \"reverse complement\") \\\n",
        "          for rec in SeqIO.parse(\"/content/f1.fasta\",\"fasta\")]"
      ]
    },
    {
      "cell_type": "code",
      "execution_count": null,
      "metadata": {
        "colab": {
          "base_uri": "https://localhost:8080/"
        },
        "id": "b7iwx7gmW7VB",
        "outputId": "5df6f12d-bea1-45ad-f883-ebd2bb477200"
      },
      "outputs": [
        {
          "output_type": "execute_result",
          "data": {
            "text/plain": [
              "1"
            ]
          },
          "metadata": {},
          "execution_count": 23
        }
      ],
      "source": [
        "SeqIO.write(records, \"rev_comp.fasta\", \"fasta\")"
      ]
    },
    {
      "cell_type": "code",
      "execution_count": null,
      "metadata": {
        "id": "lL38jEiFiUQK"
      },
      "outputs": [],
      "source": [
        "output_rev_comp = SeqIO.read(\"/content/f1.fasta\",\"fasta\")"
      ]
    },
    {
      "cell_type": "code",
      "execution_count": null,
      "metadata": {
        "colab": {
          "base_uri": "https://localhost:8080/"
        },
        "id": "YVcjjL52idsE",
        "outputId": "e353d235-a1a2-46db-9508-33a6c2ab87d0"
      },
      "outputs": [
        {
          "output_type": "execute_result",
          "data": {
            "text/plain": [
              "Seq('CTCGTCAGCCGGCGCCTGTGCGGCTCTAACTTAGTGGATGCGCTGTTCTTGCTA...TAG')"
            ]
          },
          "metadata": {},
          "execution_count": 25
        }
      ],
      "source": [
        "output_rev_comp.seq"
      ]
    },
    {
      "cell_type": "markdown",
      "metadata": {
        "id": "Tiw_BcrjIcLE"
      },
      "source": [
        "### Finding promotor regions in a sequece reqires genbank files of the same nucleotide"
      ]
    },
    {
      "cell_type": "code",
      "execution_count": null,
      "metadata": {
        "id": "oXfGURZfQvWu"
      },
      "outputs": [],
      "source": [
        "def get_gene_feature_location(seq_record):\n",
        "    # Loop over the features\n",
        "    for feature in genome_record.features:\n",
        "      if feature.type == \"gene\":\n",
        "            return feature\n",
        "    # Could not find it\n",
        "    return None\n",
        "\n"
      ]
    },
    {
      "cell_type": "code",
      "execution_count": null,
      "metadata": {
        "colab": {
          "base_uri": "https://localhost:8080/"
        },
        "collapsed": true,
        "id": "dX5RSbbRy6jM",
        "outputId": "41446cf9-1239-433e-bc4a-aa44c57494fe"
      },
      "outputs": [
        {
          "output_type": "stream",
          "name": "stdout",
          "text": [
            "type: gene\n",
            "location: [<0:23](+)\n",
            "qualifiers:\n",
            "    Key: gene, Value: ['S']\n",
            "\n",
            "[<0:23](+)\n"
          ]
        }
      ],
      "source": [
        "from Bio.Seq import Seq\n",
        "from Bio.SeqRecord import SeqRecord\n",
        "\n",
        "in_gbk=\"/content/gen1.gb\"\n",
        "genome_record = SeqIO.read(\"/content/gen1.gb\", \"genbank\")\n",
        "gene_feature = get_gene_feature_location(genome_record)\n",
        "\n",
        "print(gene_feature)\n",
        "print(gene_feature.location)\n",
        "\n"
      ]
    },
    {
      "cell_type": "code",
      "execution_count": null,
      "metadata": {
        "colab": {
          "base_uri": "https://localhost:8080/"
        },
        "id": "uFNk8hOvVeE1",
        "outputId": "6d19c4c8-ddb9-4eaa-f72b-743497486aed"
      },
      "outputs": [
        {
          "output_type": "stream",
          "name": "stdout",
          "text": [
            "> Promoter___taxon:9606___[<0:23](+)\n",
            "\n",
            "\n",
            "\n"
          ]
        }
      ],
      "source": [
        "prom_len=50\n",
        "file_out = \"prom_out.fna\"\n",
        "prom_out = \"\"   \n",
        "\n",
        "GBrecord = next(SeqIO.parse(in_gbk, \"genbank\"))\n",
        "for feature in GBrecord.features:\n",
        "    if feature.type ==\"source\":\n",
        "        db_extract = feature.qualifiers['db_xref'][0]\n",
        "        my_start = gene_feature.location._start.position # Identifies the start position of the gene on the sense strand (5' to 3' irrespective of actual coding strand).\n",
        "        my_end = gene_feature.location._end.position # Identifies the end position of the gene on the sense strand (5' to 3' irrespective of actual coding strand).\n",
        "        start_1000 = my_start - prom_len\n",
        "        end_1000 = my_end + prom_len\n",
        "        if feature.strand == -1:\n",
        "            feat_loc = str(gene_feature.location)\n",
        "            my_prom = GBrecord[my_end:end_1000].reverse_complement()\n",
        "            prom_out += \"> Promoter rev_comp\" + \"___\" + db_extract + \"___\" + feat_loc + \"\\n\"\n",
        "            prom_out += my_prom.seq.__str__() + \"\\n\\n\"\n",
        "            prom_out\n",
        "\n",
        "        elif feature.strand == 1:\n",
        "            feat_loc = str(gene_feature.location)\n",
        "            my_prom = GBrecord[start_1000:my_start]\n",
        "            prom_out += \"> Promoter\" + \"___\" + db_extract + \"___\" + feat_loc + \"\\n\"\n",
        "            prom_out += my_prom.seq.__str__()+\"\\n\\n\"\n",
        "            print(prom_out)\n",
        "\n",
        "file=open(file_out, 'w')\n",
        "file.write(prom_out)\n",
        "file.close()"
      ]
    },
    {
      "cell_type": "markdown",
      "metadata": {
        "id": "j-2irKz4Xog8"
      },
      "source": [
        "###Translation converting to protein"
      ]
    },
    {
      "cell_type": "code",
      "execution_count": null,
      "metadata": {
        "id": "WB0YiJp_Wz-B"
      },
      "outputs": [],
      "source": [
        "tran_1 = SeqIO.read(\"/content/f1.fasta\", \"fasta\")"
      ]
    },
    {
      "cell_type": "code",
      "execution_count": null,
      "metadata": {
        "colab": {
          "base_uri": "https://localhost:8080/"
        },
        "id": "yHiZBE-oXBeO",
        "outputId": "a145874c-1f2a-4a14-c684-7c940d41ef4e"
      },
      "outputs": [
        {
          "output_type": "execute_result",
          "data": {
            "text/plain": [
              "Seq('LVSRRLCGSNLVDALFLLCERNGFYRPNDGIVDQCCINTCTTNQLLNYCN*')"
            ]
          },
          "metadata": {},
          "execution_count": 36
        }
      ],
      "source": [
        "trans_output =tran_1.translate()\n",
        "trans_output.seq"
      ]
    },
    {
      "cell_type": "markdown",
      "metadata": {
        "id": "4dCPwlU2INUC"
      },
      "source": [
        "###ORF: OPEN READING FRAMES EXTRACTION"
      ]
    },
    {
      "cell_type": "code",
      "execution_count": null,
      "metadata": {
        "id": "sQpkaxl0xSQ3"
      },
      "outputs": [],
      "source": [
        "table = 11"
      ]
    },
    {
      "cell_type": "code",
      "execution_count": null,
      "metadata": {
        "id": "PYEO7I1LxXia"
      },
      "outputs": [],
      "source": [
        "min_pro_len = 160"
      ]
    },
    {
      "cell_type": "code",
      "execution_count": null,
      "metadata": {
        "id": "EUtD-hnzyxev"
      },
      "outputs": [],
      "source": [
        "for strand, nuc in [(+1, record.seq), (-1, record.seq.reverse_complement())]:\n",
        "    for frame in range(3):\n",
        "         length = 3 * ((len(record)-frame) // 3) #Multiple of three\n",
        "         for pro in nuc[frame:frame+length].translate(table).split(\"*\"):\n",
        "             if len(pro) >= min_pro_len:\n",
        "                 print(\"%s...%s - length %i, strand %i, frame %i\" \\\n",
        "                       % (pro[:30], pro[-3:], len(pro), strand, frame))"
      ]
    },
    {
      "cell_type": "markdown",
      "metadata": {
        "id": "20zU-jGRLlxi"
      },
      "source": [
        "Alignment 2 seqs\n"
      ]
    },
    {
      "cell_type": "code",
      "execution_count": null,
      "metadata": {
        "colab": {
          "base_uri": "https://localhost:8080/"
        },
        "id": "KoFqBGh6XC3x",
        "outputId": "ff52c1d3-4cc6-43e5-8e49-fa9c8003ff76"
      },
      "outputs": [
        {
          "output_type": "stream",
          "name": "stdout",
          "text": [
            "Alignment length 153\n"
          ]
        }
      ],
      "source": [
        "from Bio import AlignIO\n",
        "alignment = AlignIO.read(\"/content/f1.fasta\", \"fasta\")\n",
        "print(\"Alignment length %i\" % alignment.get_alignment_length())"
      ]
    },
    {
      "cell_type": "code",
      "execution_count": null,
      "metadata": {
        "id": "hI9Iefa1Cjze"
      },
      "outputs": [],
      "source": [
        "from Bio import pairwise2"
      ]
    },
    {
      "cell_type": "code",
      "execution_count": null,
      "metadata": {
        "colab": {
          "base_uri": "https://localhost:8080/"
        },
        "id": "Hzz50bJHLy7F",
        "outputId": "d1dc7e8a-c5f4-4d84-e131-594ce3e5cc74"
      },
      "outputs": [
        {
          "output_type": "stream",
          "name": "stdout",
          "text": [
            "AY823488.1\n",
            "Seq('CTCGTCAGCCGGCGCCTGTGCGGCTCTAACTTAGTGGATGCGCTGTTCTTGCTA...TAG')\n",
            "153\n",
            "AY823488.1\n",
            "Seq('CTCGTCAGCCGGCGCCTGTGCGGCTCTAACTTAGTGGATGCGCTGTTCTTGCTA...TAG')\n",
            "153\n",
            "CTCGTCAGCCGGCGCCTGTGCGGCTCTAACTTAGTGGATGCGCTGTTCTTGCTATGTGAACGGAATGGCTTCTACAGACCCAACGACGGCATCGTGGACCAGTGCTGTATCAACACCTGCACAACGAACCAGCTGCTGAACTACTGCAATTAG\n",
            "CTCGTCAGCCGGCGCCTGTGCGGCTCTAACTTAGTGGATGCGCTGTTCTTGCTATGTGAACGGAATGGCTTCTACAGACCCAACGACGGCATCGTGGACCAGTGCTGTATCAACACCTGCACAACGAACCAGCTGCTGAACTACTGCAATTAG\n"
          ]
        }
      ],
      "source": [
        "from Bio import SeqIO\n",
        "for seq_record_1 in SeqIO.parse(\"/content/f1.fasta\", \"fasta\"):\n",
        "    print(seq_record_1.id)\n",
        "    print(repr(seq_record_1.seq))\n",
        "    print(len(seq_record_1))\n",
        "\n",
        "for seq_record_2 in SeqIO.parse(\"/content/f1.fasta\", \"fasta\"):\n",
        "    print(seq_record_2.id)\n",
        "    print(repr(seq_record_2.seq))\n",
        "    print(len(seq_record_2))\n",
        "\n",
        "\n",
        "\n",
        "seq_1 = seq_record_1.seq\n",
        "print(seq_1)\n",
        "\n",
        "seq_2 = seq_record_2.seq\n",
        "print(seq_2)"
      ]
    },
    {
      "cell_type": "code",
      "execution_count": null,
      "metadata": {
        "id": "S_GEtNJPLrYP"
      },
      "outputs": [],
      "source": [
        "alignments = pairwise2.align.globalxx(seq_1,seq_2)\n"
      ]
    },
    {
      "cell_type": "code",
      "execution_count": null,
      "metadata": {
        "colab": {
          "base_uri": "https://localhost:8080/"
        },
        "id": "caTT_pOgOFZ2",
        "outputId": "0df800aa-4d44-49e9-8615-4747ed2ce0bc"
      },
      "outputs": [
        {
          "output_type": "stream",
          "name": "stdout",
          "text": [
            "CTCGTCAGCCGGCGCCTGTGCGGCTCTAACTTAGTGGATGCGCTGTTCTTGCTATGTGAACGGAATGGCTTCTACAGACCCAACGACGGCATCGTGGACCAGTGCTGTATCAACACCTGCACAACGAACCAGCTGCTGAACTACTGCAATTAG\n",
            "|||||||||||||||||||||||||||||||||||||||||||||||||||||||||||||||||||||||||||||||||||||||||||||||||||||||||||||||||||||||||||||||||||||||||||||||||||||||||\n",
            "CTCGTCAGCCGGCGCCTGTGCGGCTCTAACTTAGTGGATGCGCTGTTCTTGCTATGTGAACGGAATGGCTTCTACAGACCCAACGACGGCATCGTGGACCAGTGCTGTATCAACACCTGCACAACGAACCAGCTGCTGAACTACTGCAATTAG\n",
            "  Score=153\n",
            "\n"
          ]
        }
      ],
      "source": [
        "from Bio.pairwise2 import format_alignment\n",
        "print(format_alignment(*alignments[0]))"
      ]
    },
    {
      "cell_type": "code",
      "execution_count": null,
      "metadata": {
        "colab": {
          "base_uri": "https://localhost:8080/"
        },
        "id": "_CWkKGvTaoyB",
        "outputId": "26f72151-e715-4852-9f5d-28cd8bd138ad"
      },
      "outputs": [
        {
          "output_type": "stream",
          "name": "stdout",
          "text": [
            "CTCGTCAGCCGGCGCCTGTGCGGCTCTAACTTAGTGGATGCGCTGTTCTTGCTATGTGAACGGAATGGCTTCTACAGACCCAACGACGGCATCGTGGACCAGTGCTGTATCAACACCTGCACAACGAACCAGCTGCTGAACTACTGCAATTAG\n",
            "|||||||||||||||||||||||||||||||||||||||||||||||||||||||||||||||||||||||||||||||||||||||||||||||||||||||||||||||||||||||||||||||||||||||||||||||||||||||||\n",
            "CTCGTCAGCCGGCGCCTGTGCGGCTCTAACTTAGTGGATGCGCTGTTCTTGCTATGTGAACGGAATGGCTTCTACAGACCCAACGACGGCATCGTGGACCAGTGCTGTATCAACACCTGCACAACGAACCAGCTGCTGAACTACTGCAATTAG\n",
            "\n"
          ]
        }
      ],
      "source": [
        "# Import libraries\n",
        "from Bio import Align\n",
        "from Bio.Seq import Seq\n",
        "\n",
        "# Creating sample sequences\n",
        "seq11 = Seq(\"TGTGACTA\")\n",
        "seq12 = Seq(\"CATGGTCA\")\n",
        "\n",
        "# Calling method\n",
        "aligner = Align.PairwiseAligner()\n",
        "\n",
        "\n",
        "# Finding similarities\n",
        "alignments = aligner.align(seq_1, seq_2)\n",
        "\n",
        "# Showing results\n",
        "for alignment in alignments:\n",
        "\tprint(alignment)\n"
      ]
    },
    {
      "cell_type": "code",
      "execution_count": null,
      "metadata": {
        "id": "KtUNGrmTjo51"
      },
      "outputs": [],
      "source": []
    }
  ],
  "metadata": {
    "colab": {
      "collapsed_sections": [],
      "provenance": []
    },
    "kernelspec": {
      "display_name": "Python 3",
      "name": "python3"
    },
    "language_info": {
      "name": "python"
    }
  },
  "nbformat": 4,
  "nbformat_minor": 0
}